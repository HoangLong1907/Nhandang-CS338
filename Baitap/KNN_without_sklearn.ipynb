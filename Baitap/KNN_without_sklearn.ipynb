{
  "nbformat": 4,
  "nbformat_minor": 0,
  "metadata": {
    "colab": {
      "name": "KNN without sklearn.ipynb",
      "provenance": [],
      "collapsed_sections": [],
      "authorship_tag": "ABX9TyPsTegl+f7J+Svs5bIjrND4",
      "include_colab_link": true
    },
    "kernelspec": {
      "name": "python3",
      "display_name": "Python 3"
    },
    "language_info": {
      "name": "python"
    }
  },
  "cells": [
    {
      "cell_type": "markdown",
      "metadata": {
        "id": "view-in-github",
        "colab_type": "text"
      },
      "source": [
        "<a href=\"https://colab.research.google.com/github/HoangLong1907/Nhandang-CS338/blob/main/Baitap/KNN_without_sklearn.ipynb\" target=\"_parent\"><img src=\"https://colab.research.google.com/assets/colab-badge.svg\" alt=\"Open In Colab\"/></a>"
      ]
    },
    {
      "cell_type": "code",
      "metadata": {
        "id": "mGjELXsqUeqY"
      },
      "source": [
        "import numpy as np\n",
        "import matplotlib.pyplot as plt"
      ],
      "execution_count": null,
      "outputs": []
    },
    {
      "cell_type": "code",
      "metadata": {
        "id": "gw8YCVx2SaSG"
      },
      "source": [
        "# Input data - [điểm GK, điểm CK] của sinh viên UIT\n",
        "X = [[9.5, 7.0], [6.75, 5.0], [5.5, 6.5], [7.5, 6.25], [10.0, 8.5], [8.25, 5.5], [9.0, 9.0], \n",
        "     [6.0, 8.0], [8.0, 6.0], [7.0, 8.0], [8.25, 9.0], [6.5, 9.0], [7.75, 7.5], [8.0, 8.0], \n",
        "     [7.0, 5.0], [9.5, 8.0], [8.0, 9.0], [9.0, 9.5], [7.75, 8.25], [9.0, 4.5], [9.0, 5.5], \n",
        "     [5.5, 4.0], [4.0, 5.0], [4.5, 5.0], [7.0, 2.5], [5.0, 4.25], [4.0, 5.75], [4.75, 4.0], \n",
        "     [4.75, 3.0], [6.5, 3.0], [5.5, 3.0], [2.75, 6.5], [5.5, 3.0], [2.0, 6.5], [2.25, 5.0], \n",
        "     [4.5, 5.0], [3.75, 5.5], [2.0, 5.25], [4.0, 4.0], [2.25, 6.5], [5.0, 3.0], [3.75, 3.25]]\n",
        "\n",
        "# Labels - Dat hoặc KhongDat\n",
        "Y = ['Dat','Dat','Dat','Dat','Dat','Dat','Dat',\n",
        "     'Dat','Dat','Dat','Dat','Dat','Dat','Dat',\n",
        "     'Dat','Dat','Dat','Dat','Dat','Dat','Dat',\n",
        "     'KhongDat','KhongDat','KhongDat','KhongDat','KhongDat','KhongDat','KhongDat',\n",
        "     'KhongDat','KhongDat','KhongDat','KhongDat','KhongDat','KhongDat','KhongDat',\n",
        "     'KhongDat','KhongDat','KhongDat','KhongDat','KhongDat','KhongDat','KhongDat',]"
      ],
      "execution_count": null,
      "outputs": []
    },
    {
      "cell_type": "code",
      "metadata": {
        "colab": {
          "base_uri": "https://localhost:8080/",
          "height": 282
        },
        "id": "H3IySpzIZwJJ",
        "outputId": "8124a2df-4abd-4131-cf2d-b853cd2183a4"
      },
      "source": [
        "for i in range(len(X)):\n",
        "    if Y[i] == 'Dat':\n",
        "        plt.scatter(X[i][0], X[i][1], s=120, marker='P', linewidths=2, color='blue')\n",
        "    else:\n",
        "        plt.scatter(X[i][0], X[i][1], s=120, marker='P', linewidths=2, color='red')\n",
        "        \n",
        "plt.plot()"
      ],
      "execution_count": null,
      "outputs": [
        {
          "output_type": "execute_result",
          "data": {
            "text/plain": [
              "[]"
            ]
          },
          "metadata": {
            "tags": []
          },
          "execution_count": 44
        },
        {
          "output_type": "display_data",
          "data": {
            "image/png": "[encoded data removed]",
            "text/plain": [
              "<Figure size 432x288 with 1 Axes>"
            ]
          },
          "metadata": {
            "tags": [],
            "needs_background": "light"
          }
        }
      ]
    },
    {
      "cell_type": "code",
      "metadata": {
        "id": "lQTA8ArZVeVA"
      },
      "source": [
        "# Tìm biến nào nhiều nhất trong một mảng các biến\n",
        "def most_found(array):\n",
        "    list_of_words = []\n",
        "    for i in range(len(array)):\n",
        "        if array[i] not in list_of_words:\n",
        "            list_of_words.append(array[i])\n",
        "            \n",
        "    most_counted = ''\n",
        "    n_of_most_counted = None\n",
        "    \n",
        "    for i in range(len(list_of_words)):\n",
        "        counted = array.count(list_of_words[i])\n",
        "        if n_of_most_counted == None:\n",
        "            most_counted = list_of_words[i]\n",
        "            n_of_most_counted = counted\n",
        "        elif n_of_most_counted < counted:\n",
        "            most_counted = list_of_words[i]\n",
        "            n_of_most_counted = counted\n",
        "        elif n_of_most_counted == counted:\n",
        "            most_counted = None\n",
        "            \n",
        "    return most_counted"
      ],
      "execution_count": null,
      "outputs": []
    },
    {
      "cell_type": "markdown",
      "metadata": {
        "id": "oP_4eEiUcD5l"
      },
      "source": [
        "**KNN Algorithm**"
      ]
    },
    {
      "cell_type": "markdown",
      "metadata": {
        "id": "rN-81oDwbbyx"
      },
      "source": [
        "**Euclidean Distance**:square root of sum of square of distance between two points in every dimension.Like pythagorean theorem: a^2 + b^2 = c^2\n",
        "\n",
        "![download.png](data:image/png;base64,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)"
      ]
    },
    {
      "cell_type": "code",
      "metadata": {
        "id": "aoWMxsntbW53"
      },
      "source": [
        "def find_neighbors(point, data, labels, k=3):\n",
        "    n_of_dimensions = len(point)\n",
        "    \n",
        "    # tìm  neighbors gần nhất\n",
        "    neighbors = []\n",
        "    neighbor_labels = []\n",
        "    \n",
        "    for i in range(0, k):\n",
        "        nearest_neighbor_id = None\n",
        "        smallest_distance = None\n",
        "        \n",
        "        for i in range(0, len(data)):\n",
        "            eucledian_dist = 0\n",
        "            for d in range(0, n_of_dimensions):\n",
        "                dist = abs(point[d] - data[i][d])\n",
        "                eucledian_dist += dist\n",
        "                \n",
        "            eucledian_dist = np.sqrt(eucledian_dist)\n",
        "            \n",
        "            if smallest_distance == None:\n",
        "                smallest_distance = eucledian_dist\n",
        "                nearest_neighbor_id = i\n",
        "            elif smallest_distance > eucledian_dist:\n",
        "                smallest_distance = eucledian_dist\n",
        "                nearest_neighbor_id = i\n",
        "                \n",
        "        neighbors.append(data[nearest_neighbor_id])\n",
        "        neighbor_labels.append(labels[nearest_neighbor_id])\n",
        "        \n",
        "        data.remove(data[nearest_neighbor_id])\n",
        "        labels.remove(labels[nearest_neighbor_id])\n",
        "    return neighbor_labels\n",
        "\n",
        "def k_nearest_neighbor(point, data, labels, k=3):\n",
        "    \n",
        "    # Nếu tìm thấy nhiều nhất hai nhãn khác nhau, tiếp tục tìm kiếm thêm 1 nhãn k\n",
        "    while True:\n",
        "        neighbor_labels = find_neighbors(point, data, labels, k=k)\n",
        "        label = most_found(neighbor_labels)\n",
        "        if label != None:\n",
        "            break\n",
        "        k += 1\n",
        "        if k >= len(data):\n",
        "          break\n",
        "            \n",
        "    return label"
      ],
      "execution_count": null,
      "outputs": []
    },
    {
      "cell_type": "markdown",
      "metadata": {
        "id": "uFjcoCJydA7L"
      },
      "source": [
        "Predict label using KNN"
      ]
    },
    {
      "cell_type": "code",
      "metadata": {
        "colab": {
          "base_uri": "https://localhost:8080/",
          "height": 35
        },
        "id": "db2AAd4tc7NQ",
        "outputId": "9720b691-cb6f-43b6-be0a-dff1f8eb924c"
      },
      "source": [
        "point1 = [4.0, 5.0]\n",
        "k_nearest_neighbor(point1, X, Y, k=5)\n"
      ],
      "execution_count": null,
      "outputs": [
        {
          "output_type": "execute_result",
          "data": {
            "application/vnd.google.colaboratory.intrinsic+json": {
              "type": "string"
            },
            "text/plain": [
              "'KhongDat'"
            ]
          },
          "metadata": {
            "tags": []
          },
          "execution_count": 47
        }
      ]
    },
    {
      "cell_type": "code",
      "metadata": {
        "colab": {
          "base_uri": "https://localhost:8080/",
          "height": 35
        },
        "id": "VtMjD2XAdHZo",
        "outputId": "0a2494fa-8e25-4815-bdf1-a8979ce9658b"
      },
      "source": [
        "point2 = [8.0, 5.0]\n",
        "k_nearest_neighbor(point2, X, Y, k=3)"
      ],
      "execution_count": null,
      "outputs": [
        {
          "output_type": "execute_result",
          "data": {
            "application/vnd.google.colaboratory.intrinsic+json": {
              "type": "string"
            },
            "text/plain": [
              "'Dat'"
            ]
          },
          "metadata": {
            "tags": []
          },
          "execution_count": 48
        }
      ]
    },
    {
      "cell_type": "code",
      "metadata": {
        "id": "M0QiCQpEdYzZ"
      },
      "source": [
        ""
      ],
      "execution_count": null,
      "outputs": []
    }
  ]
}